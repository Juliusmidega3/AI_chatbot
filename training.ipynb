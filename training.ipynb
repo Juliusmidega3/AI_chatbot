{
 "cells": [
  {
   "cell_type": "code",
   "execution_count": 1,
   "metadata": {},
   "outputs": [
    {
     "name": "stderr",
     "output_type": "stream",
     "text": [
      "[nltk_data] Downloading package punkt_tab to c:\\Users\\Julio Lito\\AppDa\n",
      "[nltk_data]     ta\\Local\\Programs\\Python\\Python312\\share\\nltk_data...\n",
      "[nltk_data]   Package punkt_tab is already up-to-date!\n"
     ]
    },
    {
     "name": "stdout",
     "output_type": "stream",
     "text": [
      "[(['hello'], 'greetings'), (['hey'], 'greetings'), (['hi'], 'greetings'), (['greeting'], 'greetings'), (['what', \"'s\", 'up'], 'greetings'), (['how', 'is', 'it', 'going'], 'greetings'), (['cya'], 'goodbye'), (['mabadae'], 'goodbye'), (['tuchekiane'], 'goodbye'), (['see', 'you', 'later'], 'goodbye'), (['goodbye'], 'goodbye'), (['i', 'am', 'leaving'], 'goodbye'), (['have', 'a', 'good', 'day'], 'goodbye'), (['bye'], 'goodbye'), (['ciao'], 'goodbye'), (['see', 'ya'], 'goodbye'), (['how', 'old', 'are', 'you'], 'age'), (['we', 'mzee', 'uko', 'na', 'miaka', 'ngapi'], 'age'), (['how', 'old', 'is', 'julius'], 'age'), (['what', 'is', 'your', 'age'], 'age'), (['age'], 'age'), (['what', 'is', 'your', 'name'], 'name'), (['what', 'should', 'i', 'call', 'you'], 'name'), (['so', 'unaitwa'], 'name'), (['who', 'are', 'you'], 'name'), (['can', 'you', 'tell', 'me', 'your', 'name'], 'name'), (['how', 'can', 'i', 'reach', 'you', 'guy'], 'Contacts'), (['give', 'me', 'your', 'contact'], 'Contacts'), (['how', 'can', 'i', 'reach', 'you'], 'Contacts'), (['so', 'what', 'can', 'i', 'get', 'from', 'julius'], 'services'), (['what', 'do', 'you', 'offer'], 'services'), (['provide', 'the', 'programming', 'facility', 'that', 'get', 'from', 'you'], 'services'), (['when', 'are', 'you', 'guy', 'open'], 'Hours'), (['what', 'are', 'your', 'hour'], 'Hours'), (['hour', 'of', 'operation'], 'Hours')]\n"
     ]
    }
   ],
   "source": [
    "import random\n",
    "import json\n",
    "import pickle #serialization\n",
    "import numpy as np\n",
    "import nltk\n",
    "from nltk.stem import WordNetLemmatizer # reduce the word to its base form (lemma)\n",
    "from tensorflow.keras.models import Sequential\n",
    "from tensorflow.keras.layers import Dense, Activation, Dropout\n",
    "from tensorflow.keras.optimizers import SGD\n",
    "\n",
    "# Instantiate the lemmatizer\n",
    "lemmatizer = WordNetLemmatizer()\n",
    "\n",
    "# Load intents data\n",
    "intents = json.loads(open('intents.json').read())\n",
    "nltk.download('punkt_tab')\n",
    "\n",
    "# Initialize necessary lists\n",
    "words = []\n",
    "classes = []\n",
    "documents = []\n",
    "ignore_letters = ['?', '!', '.', ',']\n",
    "\n",
    "# Process each pattern in intents\n",
    "for intent in intents['intents']:\n",
    "    for pattern in intent['patterns']:\n",
    "        word_list = nltk.word_tokenize(pattern)  # Tokenize each pattern into words\n",
    "        word_list = [lemmatizer.lemmatize(word.lower()) for word in word_list if word not in ignore_letters]  # Lemmatize and remove punctuation\n",
    "        words.extend(word_list)  # Add the tokenized and lemmatized words to the list\n",
    "        documents.append((word_list, intent['tag']))  # Add the document with its tag\n",
    "\n",
    "        if intent['tag'] not in classes:\n",
    "            classes.append(intent['tag'])  # Add the unique tags to the classes list\n",
    "\n",
    "# Print documents for verification\n",
    "print(documents)\n"
   ]
  }
 ],
 "metadata": {
  "kernelspec": {
   "display_name": "Python 3",
   "language": "python",
   "name": "python3"
  },
  "language_info": {
   "codemirror_mode": {
    "name": "ipython",
    "version": 3
   },
   "file_extension": ".py",
   "mimetype": "text/x-python",
   "name": "python",
   "nbconvert_exporter": "python",
   "pygments_lexer": "ipython3",
   "version": "3.12.0"
  }
 },
 "nbformat": 4,
 "nbformat_minor": 2
}
